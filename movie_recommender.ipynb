{
 "cells": [
  {
   "cell_type": "code",
   "execution_count": 1,
   "metadata": {
    "collapsed": false
   },
   "outputs": [
    {
     "name": "stderr",
     "output_type": "stream",
     "text": [
      "2016-03-23 11:58:27,300 [INFO] graphlab.deploy._session, 580: Using session dir: /Users/michael/Documents/turi-dev/local_scripts/../artifacts\n"
     ]
    }
   ],
   "source": [
    "from os import path\n",
    "import graphlab as gl\n", 
    "from datetime import datetime"
   ]
  },
  {
   "cell_type": "markdown",
   "metadata": {},
   "source": [
    "# Load Data\n",
    "\n",
    "MovieLens dataset collected by the GroupLens Research Project at the University of Minnesota.\n",
    "For more information, see http://grouplens.org/datasets/movielens/"
   ]
  },
  {
   "cell_type": "code",
   "execution_count": 2,
   "metadata": {
    "collapsed": false
   },
   "outputs": [
    {
     "name": "stdout",
     "output_type": "stream",
     "text": [
      "This commercial license of GraphLab Create is assigned to engr@turi.com.\n"
     ]
    },
    {
     "name": "stderr",
     "output_type": "stream",
     "text": [
      "2016-03-23 11:58:29,397 [INFO] graphlab.cython.cy_server, 176: GraphLab Create v1.9 started. Logging: /tmp/graphlab_server_1458759508.log\n"
     ]
    },
    {
     "data": {
      "text/html": [
       "<pre>Finished parsing file /Users/michael/Documents/sample-movie-recommender/dataset/ml-20m/movies.csv</pre>"
      ],
      "text/plain": [
       "Finished parsing file /Users/michael/Documents/sample-movie-recommender/dataset/ml-20m/movies.csv"
      ]
     },
     "metadata": {},
     "output_type": "display_data"
    },
    {
     "data": {
      "text/html": [
       "<pre>Parsing completed. Parsed 100 lines in 0.08761 secs.</pre>"
      ],
      "text/plain": [
       "Parsing completed. Parsed 100 lines in 0.08761 secs."
      ]
     },
     "metadata": {},
     "output_type": "display_data"
    },
    {
     "name": "stdout",
     "output_type": "stream",
     "text": [
      "------------------------------------------------------\n",
      "Inferred types from first line of file as \n",
      "column_type_hints=[int,str,str]\n",
      "If parsing fails due to incorrect types, you can correct\n",
      "the inferred type list above and pass it to read_csv in\n",
      "the column_type_hints argument\n",
      "------------------------------------------------------\n"
     ]
    },
    {
     "data": {
      "text/html": [
       "<pre>Finished parsing file /Users/michael/Documents/sample-movie-recommender/dataset/ml-20m/movies.csv</pre>"
      ],
      "text/plain": [
       "Finished parsing file /Users/michael/Documents/sample-movie-recommender/dataset/ml-20m/movies.csv"
      ]
     },
     "metadata": {},
     "output_type": "display_data"
    },
    {
     "data": {
      "text/html": [
       "<pre>Parsing completed. Parsed 27278 lines in 0.058274 secs.</pre>"
      ],
      "text/plain": [
       "Parsing completed. Parsed 27278 lines in 0.058274 secs."
      ]
     },
     "metadata": {},
     "output_type": "display_data"
    },
    {
     "data": {
      "text/html": [
       "<pre>Finished parsing file /Users/michael/Documents/sample-movie-recommender/dataset/ml-20m/ratings.csv</pre>"
      ],
      "text/plain": [
       "Finished parsing file /Users/michael/Documents/sample-movie-recommender/dataset/ml-20m/ratings.csv"
      ]
     },
     "metadata": {},
     "output_type": "display_data"
    },
    {
     "data": {
      "text/html": [
       "<pre>Parsing completed. Parsed 100 lines in 1.16208 secs.</pre>"
      ],
      "text/plain": [
       "Parsing completed. Parsed 100 lines in 1.16208 secs."
      ]
     },
     "metadata": {},
     "output_type": "display_data"
    },
    {
     "name": "stdout",
     "output_type": "stream",
     "text": [
      "------------------------------------------------------\n",
      "Inferred types from first line of file as \n",
      "column_type_hints=[int,int,float,int]\n",
      "If parsing fails due to incorrect types, you can correct\n",
      "the inferred type list above and pass it to read_csv in\n",
      "the column_type_hints argument\n",
      "------------------------------------------------------\n"
     ]
    },
    {
     "data": {
      "text/html": [
       "<pre>Read 2042753 lines. Lines per second: 1.06306e+06</pre>"
      ],
      "text/plain": [
       "Read 2042753 lines. Lines per second: 1.06306e+06"
      ]
     },
     "metadata": {},
     "output_type": "display_data"
    },
    {
     "data": {
      "text/html": [
       "<pre>Read 13921441 lines. Lines per second: 1.91966e+06</pre>"
      ],
      "text/plain": [
       "Read 13921441 lines. Lines per second: 1.91966e+06"
      ]
     },
     "metadata": {},
     "output_type": "display_data"
    },
    {
     "data": {
      "text/html": [
       "<pre>Finished parsing file /Users/michael/Documents/sample-movie-recommender/dataset/ml-20m/ratings.csv</pre>"
      ],
      "text/plain": [
       "Finished parsing file /Users/michael/Documents/sample-movie-recommender/dataset/ml-20m/ratings.csv"
      ]
     },
     "metadata": {},
     "output_type": "display_data"
    },
    {
     "data": {
      "text/html": [
       "<pre>Parsing completed. Parsed 20000263 lines in 9.79849 secs.</pre>"
      ],
      "text/plain": [
       "Parsing completed. Parsed 20000263 lines in 9.79849 secs."
      ]
     },
     "metadata": {},
     "output_type": "display_data"
    }
   ],
   "source": [
    "# Path to the dataset directory\n",
    "data_dir = './dataset/ml-20m'\n",
    "\n",
    "# Table of movies we are recommending: movieId, title, genres\n",
    "items = gl.SFrame.read_csv(path.join(data_dir, 'movies.csv'))\n",
    "\n",
    "# Table of interactions between users and items: userId, movieId, rating, timestamp\n",
    "actions = gl.SFrame.read_csv(path.join(data_dir, 'ratings.csv'))"
   ]
  },
  {
   "cell_type": "markdown",
   "metadata": {},
   "source": [
    "# Prepare Data"
   ]
  },
  {
   "cell_type": "code",
   "execution_count": 3,
   "metadata": {
    "collapsed": true
   },
   "outputs": [],
   "source": [
    "# Prepare the data by removing items that are rare\n",
    "rare_items = actions.groupby('movieId', gl.aggregate.COUNT).sort('Count')\n",
    "rare_items = rare_items[rare_items['Count'] <= 5]\n",
    "items = items.filter_by(rare_items['movieId'], 'movieId', exclude=True)\n",
    "actions = actions.filter_by(rare_items['movieId'], 'movieId', exclude=True)\n",
    "actions['timestamp'] = actions['timestamp'].astype(datetime)"
   ]
  },
  {
   "cell_type": "code",
   "execution_count": 4,
   "metadata": {
    "collapsed": true
   },
   "outputs": [],
   "source": [
    "# Extract year, title, and genre\n",
    "items['year'] = items['title'].apply(lambda x: x[-5:-1])\n",
    "items['title'] = items['title'].apply(lambda x: x[:-7])\n",
    "items['genres'] = items['genres'].apply(lambda x: x.split('|'))"
   ]
  },
  {
   "cell_type": "markdown",
   "metadata": {},
   "source": [
    "# Train Recommender Model"
   ]
  },
  {
   "cell_type": "code",
   "execution_count": 5,
   "metadata": {
    "collapsed": false
   },
   "outputs": [
    {
     "data": {
      "text/html": [
       "<pre>Recsys training: model = item_similarity</pre>"
      ],
      "text/plain": [
       "Recsys training: model = item_similarity"
      ]
     },
     "metadata": {},
     "output_type": "display_data"
    },
    {
     "data": {
      "text/html": [
       "<pre>Warning: Ignoring columns rating, timestamp;</pre>"
      ],
      "text/plain": [
       "Warning: Ignoring columns rating, timestamp;"
      ]
     },
     "metadata": {},
     "output_type": "display_data"
    },
    {
     "data": {
      "text/html": [
       "<pre>    To use one of these as a target column, set target = <column_name></pre>"
      ],
      "text/plain": [
       "    To use one of these as a target column, set target = <column_name>"
      ]
     },
     "metadata": {},
     "output_type": "display_data"
    },
    {
     "data": {
      "text/html": [
       "<pre>    and use a method that allows the use of a target.</pre>"
      ],
      "text/plain": [
       "    and use a method that allows the use of a target."
      ]
     },
     "metadata": {},
     "output_type": "display_data"
    },
    {
     "data": {
      "text/html": [
       "<pre>Preparing data set.</pre>"
      ],
      "text/plain": [
       "Preparing data set."
      ]
     },
     "metadata": {},
     "output_type": "display_data"
    },
    {
     "data": {
      "text/html": [
       "<pre>    Data has 19952781 observations with 138493 users and 17519 items.</pre>"
      ],
      "text/plain": [
       "    Data has 19952781 observations with 138493 users and 17519 items."
      ]
     },
     "metadata": {},
     "output_type": "display_data"
    },
    {
     "data": {
      "text/html": [
       "<pre>    Data prepared in: 14.8318s</pre>"
      ],
      "text/plain": [
       "    Data prepared in: 14.8318s"
      ]
     },
     "metadata": {},
     "output_type": "display_data"
    },
    {
     "data": {
      "text/html": [
       "<pre>Computing item similarity statistics:</pre>"
      ],
      "text/plain": [
       "Computing item similarity statistics:"
      ]
     },
     "metadata": {},
     "output_type": "display_data"
    },
    {
     "data": {
      "text/html": [
       "<pre>+-----------------+-----------------+</pre>"
      ],
      "text/plain": [
       "+-----------------+-----------------+"
      ]
     },
     "metadata": {},
     "output_type": "display_data"
    },
    {
     "data": {
      "text/html": [
       "<pre>| Number of users | Elapsed Time    |</pre>"
      ],
      "text/plain": [
       "| Number of users | Elapsed Time    |"
      ]
     },
     "metadata": {},
     "output_type": "display_data"
    },
    {
     "data": {
      "text/html": [
       "<pre>+-----------------+-----------------+</pre>"
      ],
      "text/plain": [
       "+-----------------+-----------------+"
      ]
     },
     "metadata": {},
     "output_type": "display_data"
    },
    {
     "data": {
      "text/html": [
       "<pre>| 100000          | 42.6517         |</pre>"
      ],
      "text/plain": [
       "| 100000          | 42.6517         |"
      ]
     },
     "metadata": {},
     "output_type": "display_data"
    },
    {
     "data": {
      "text/html": [
       "<pre>+-----------------+-----------------+</pre>"
      ],
      "text/plain": [
       "+-----------------+-----------------+"
      ]
     },
     "metadata": {},
     "output_type": "display_data"
    },
    {
     "data": {
      "text/html": [
       "<pre>Computing most similar items for 17519 items:</pre>"
      ],
      "text/plain": [
       "Computing most similar items for 17519 items:"
      ]
     },
     "metadata": {},
     "output_type": "display_data"
    },
    {
     "data": {
      "text/html": [
       "<pre>+-----------------+-----------------+</pre>"
      ],
      "text/plain": [
       "+-----------------+-----------------+"
      ]
     },
     "metadata": {},
     "output_type": "display_data"
    },
    {
     "data": {
      "text/html": [
       "<pre>| Number of items | Elapsed Time    |</pre>"
      ],
      "text/plain": [
       "| Number of items | Elapsed Time    |"
      ]
     },
     "metadata": {},
     "output_type": "display_data"
    },
    {
     "data": {
      "text/html": [
       "<pre>+-----------------+-----------------+</pre>"
      ],
      "text/plain": [
       "+-----------------+-----------------+"
      ]
     },
     "metadata": {},
     "output_type": "display_data"
    },
    {
     "data": {
      "text/html": [
       "<pre>| 1000            | 60.8935         |</pre>"
      ],
      "text/plain": [
       "| 1000            | 60.8935         |"
      ]
     },
     "metadata": {},
     "output_type": "display_data"
    },
    {
     "data": {
      "text/html": [
       "<pre>| 2000            | 61.1577         |</pre>"
      ],
      "text/plain": [
       "| 2000            | 61.1577         |"
      ]
     },
     "metadata": {},
     "output_type": "display_data"
    },
    {
     "data": {
      "text/html": [
       "<pre>| 3000            | 61.4082         |</pre>"
      ],
      "text/plain": [
       "| 3000            | 61.4082         |"
      ]
     },
     "metadata": {},
     "output_type": "display_data"
    },
    {
     "data": {
      "text/html": [
       "<pre>| 4000            | 61.6607         |</pre>"
      ],
      "text/plain": [
       "| 4000            | 61.6607         |"
      ]
     },
     "metadata": {},
     "output_type": "display_data"
    },
    {
     "data": {
      "text/html": [
       "<pre>| 5000            | 61.8925         |</pre>"
      ],
      "text/plain": [
       "| 5000            | 61.8925         |"
      ]
     },
     "metadata": {},
     "output_type": "display_data"
    },
    {
     "data": {
      "text/html": [
       "<pre>| 6000            | 62.1195         |</pre>"
      ],
      "text/plain": [
       "| 6000            | 62.1195         |"
      ]
     },
     "metadata": {},
     "output_type": "display_data"
    },
    {
     "data": {
      "text/html": [
       "<pre>| 7000            | 62.3357         |</pre>"
      ],
      "text/plain": [
       "| 7000            | 62.3357         |"
      ]
     },
     "metadata": {},
     "output_type": "display_data"
    },
    {
     "data": {
      "text/html": [
       "<pre>| 8000            | 62.55           |</pre>"
      ],
      "text/plain": [
       "| 8000            | 62.55           |"
      ]
     },
     "metadata": {},
     "output_type": "display_data"
    },
    {
     "data": {
      "text/html": [
       "<pre>| 9000            | 62.7595         |</pre>"
      ],
      "text/plain": [
       "| 9000            | 62.7595         |"
      ]
     },
     "metadata": {},
     "output_type": "display_data"
    },
    {
     "data": {
      "text/html": [
       "<pre>| 10000           | 62.9683         |</pre>"
      ],
      "text/plain": [
       "| 10000           | 62.9683         |"
      ]
     },
     "metadata": {},
     "output_type": "display_data"
    },
    {
     "data": {
      "text/html": [
       "<pre>| 11000           | 63.172          |</pre>"
      ],
      "text/plain": [
       "| 11000           | 63.172          |"
      ]
     },
     "metadata": {},
     "output_type": "display_data"
    },
    {
     "data": {
      "text/html": [
       "<pre>| 12000           | 63.4121         |</pre>"
      ],
      "text/plain": [
       "| 12000           | 63.4121         |"
      ]
     },
     "metadata": {},
     "output_type": "display_data"
    },
    {
     "data": {
      "text/html": [
       "<pre>| 13000           | 63.6944         |</pre>"
      ],
      "text/plain": [
       "| 13000           | 63.6944         |"
      ]
     },
     "metadata": {},
     "output_type": "display_data"
    },
    {
     "data": {
      "text/html": [
       "<pre>| 14000           | 63.9636         |</pre>"
      ],
      "text/plain": [
       "| 14000           | 63.9636         |"
      ]
     },
     "metadata": {},
     "output_type": "display_data"
    },
    {
     "data": {
      "text/html": [
       "<pre>| 15000           | 64.2387         |</pre>"
      ],
      "text/plain": [
       "| 15000           | 64.2387         |"
      ]
     },
     "metadata": {},
     "output_type": "display_data"
    },
    {
     "data": {
      "text/html": [
       "<pre>| 16000           | 64.5681         |</pre>"
      ],
      "text/plain": [
       "| 16000           | 64.5681         |"
      ]
     },
     "metadata": {},
     "output_type": "display_data"
    },
    {
     "data": {
      "text/html": [
       "<pre>| 17000           | 64.9078         |</pre>"
      ],
      "text/plain": [
       "| 17000           | 64.9078         |"
      ]
     },
     "metadata": {},
     "output_type": "display_data"
    },
    {
     "data": {
      "text/html": [
       "<pre>+-----------------+-----------------+</pre>"
      ],
      "text/plain": [
       "+-----------------+-----------------+"
      ]
     },
     "metadata": {},
     "output_type": "display_data"
    },
    {
     "data": {
      "text/html": [
       "<pre>Finished training in 68.2891s</pre>"
      ],
      "text/plain": [
       "Finished training in 68.2891s"
      ]
     },
     "metadata": {},
     "output_type": "display_data"
    }
   ],
   "source": [
    "training_data, validation_data = gl.recommender.util.random_split_by_user(actions, 'userId', 'movieId')\n",
    "model = gl.recommender.create(training_data, 'userId', 'movieId')"
   ]
  },
  {
   "cell_type": "markdown",
   "metadata": {},
   "source": [
    "# Explore and Evaluate the Model"
   ]
  },
  {
   "cell_type": "code",
   "execution_count": 6,
   "metadata": {
    "collapsed": false,
    "scrolled": false
   },
   "outputs": [
    {
     "data": {
      "text/html": [
       "<pre>Finished parsing file /Users/michael/Documents/sample-movie-recommender/dataset/ml-20m/movie_urls.csv</pre>"
      ],
      "text/plain": [
       "Finished parsing file /Users/michael/Documents/sample-movie-recommender/dataset/ml-20m/movie_urls.csv"
      ]
     },
     "metadata": {},
     "output_type": "display_data"
    },
    {
     "data": {
      "text/html": [
       "<pre>Parsing completed. Parsed 100 lines in 0.079226 secs.</pre>"
      ],
      "text/plain": [
       "Parsing completed. Parsed 100 lines in 0.079226 secs."
      ]
     },
     "metadata": {},
     "output_type": "display_data"
    },
    {
     "name": "stdout",
     "output_type": "stream",
     "text": [
      "------------------------------------------------------\n",
      "Inferred types from first line of file as \n",
      "column_type_hints=[int,str]\n",
      "If parsing fails due to incorrect types, you can correct\n",
      "the inferred type list above and pass it to read_csv in\n",
      "the column_type_hints argument\n",
      "------------------------------------------------------\n"
     ]
    },
    {
     "data": {
      "text/html": [
       "<pre>Finished parsing file /Users/michael/Documents/sample-movie-recommender/dataset/ml-20m/movie_urls.csv</pre>"
      ],
      "text/plain": [
       "Finished parsing file /Users/michael/Documents/sample-movie-recommender/dataset/ml-20m/movie_urls.csv"
      ]
     },
     "metadata": {},
     "output_type": "display_data"
    },
    {
     "data": {
      "text/html": [
       "<pre>Parsing completed. Parsed 26863 lines in 0.055628 secs.</pre>"
      ],
      "text/plain": [
       "Parsing completed. Parsed 26863 lines in 0.055628 secs."
      ]
     },
     "metadata": {},
     "output_type": "display_data"
    },
    {
     "data": {
      "text/html": [
       "<pre>Finished parsing file /Users/michael/Documents/sample-movie-recommender/dataset/ml-20m/user_names.csv</pre>"
      ],
      "text/plain": [
       "Finished parsing file /Users/michael/Documents/sample-movie-recommender/dataset/ml-20m/user_names.csv"
      ]
     },
     "metadata": {},
     "output_type": "display_data"
    },
    {
     "data": {
      "text/html": [
       "<pre>Parsing completed. Parsed 100 lines in 0.033152 secs.</pre>"
      ],
      "text/plain": [
       "Parsing completed. Parsed 100 lines in 0.033152 secs."
      ]
     },
     "metadata": {},
     "output_type": "display_data"
    },
    {
     "name": "stdout",
     "output_type": "stream",
     "text": [
      "------------------------------------------------------\n",
      "Inferred types from first line of file as \n",
      "column_type_hints=[int,str]\n",
      "If parsing fails due to incorrect types, you can correct\n",
      "the inferred type list above and pass it to read_csv in\n",
      "the column_type_hints argument\n",
      "------------------------------------------------------\n"
     ]
    },
    {
     "data": {
      "text/html": [
       "<pre>Finished parsing file /Users/michael/Documents/sample-movie-recommender/dataset/ml-20m/user_names.csv</pre>"
      ],
      "text/plain": [
       "Finished parsing file /Users/michael/Documents/sample-movie-recommender/dataset/ml-20m/user_names.csv"
      ]
     },
     "metadata": {},
     "output_type": "display_data"
    },
    {
     "data": {
      "text/html": [
       "<pre>Parsing completed. Parsed 6743 lines in 0.017403 secs.</pre>"
      ],
      "text/plain": [
       "Parsing completed. Parsed 6743 lines in 0.017403 secs."
      ]
     },
     "metadata": {},
     "output_type": "display_data"
    }
   ],
   "source": [
    "# Get the metadata ready\n",
    "urls = gl.SFrame.read_csv(path.join(data_dir, 'movie_urls.csv'))\n",
    "items = items.join(urls, on='movieId')\n",
    "users = gl.SFrame.read_csv(path.join(data_dir, 'user_names.csv'))"
   ]
  },
  {
   "cell_type": "code",
   "execution_count": 7,
   "metadata": {
    "collapsed": false
   },
   "outputs": [
    {
     "data": {
      "text/html": [
       "<pre>Tokenizing...</pre>"
      ],
      "text/plain": [
       "Tokenizing..."
      ]
     },
     "metadata": {},
     "output_type": "display_data"
    },
    {
     "data": {
      "text/html": [
       "<pre>TF-IDF transform...</pre>"
      ],
      "text/plain": [
       "TF-IDF transform..."
      ]
     },
     "metadata": {},
     "output_type": "display_data"
    },
    {
     "data": {
      "text/html": [
       "<pre>Creating inverted index...</pre>"
      ],
      "text/plain": [
       "Creating inverted index..."
      ]
     },
     "metadata": {},
     "output_type": "display_data"
    },
    {
     "data": {
      "text/html": [
       "<pre>Creating query expansion model...</pre>"
      ],
      "text/plain": [
       "Creating query expansion model..."
      ]
     },
     "metadata": {},
     "output_type": "display_data"
    },
    {
     "data": {
      "text/html": [
       "<pre>Saving data for querying...</pre>"
      ],
      "text/plain": [
       "Saving data for querying..."
      ]
     },
     "metadata": {},
     "output_type": "display_data"
    },
    {
     "data": {
      "text/html": [
       "<pre>Tokenizing...</pre>"
      ],
      "text/plain": [
       "Tokenizing..."
      ]
     },
     "metadata": {},
     "output_type": "display_data"
    },
    {
     "data": {
      "text/html": [
       "<pre>TF-IDF transform...</pre>"
      ],
      "text/plain": [
       "TF-IDF transform..."
      ]
     },
     "metadata": {},
     "output_type": "display_data"
    },
    {
     "data": {
      "text/html": [
       "<pre>Creating inverted index...</pre>"
      ],
      "text/plain": [
       "Creating inverted index..."
      ]
     },
     "metadata": {},
     "output_type": "display_data"
    },
    {
     "data": {
      "text/html": [
       "<pre>Creating query expansion model...</pre>"
      ],
      "text/plain": [
       "Creating query expansion model..."
      ]
     },
     "metadata": {},
     "output_type": "display_data"
    },
    {
     "data": {
      "text/html": [
       "<pre>Saving data for querying...</pre>"
      ],
      "text/plain": [
       "Saving data for querying..."
      ]
     },
     "metadata": {},
     "output_type": "display_data"
    },
    {
     "data": {
      "text/html": [
       "<pre>Getting similar items completed in 0.001925</pre>"
      ],
      "text/plain": [
       "Getting similar items completed in 0.001925"
      ]
     },
     "metadata": {},
     "output_type": "display_data"
    }
   ],
   "source": [
    "# Interactively evaluate and explore recommendations\n",
    "view = model.views.overview(validation_set=validation_data,\n",
    "                            user_data=users,\n",
    "                            item_data=items,\n",
    "                            item_name_column='title',\n",
    "                            item_url_column='url')\n",
    "view.show()"
   ]
  }
 ],
 "metadata": {
  "kernelspec": {
   "display_name": "Python 2",
   "language": "python",
   "name": "python2"
  },
  "language_info": {
   "codemirror_mode": {
    "name": "ipython",
    "version": 2
   },
   "file_extension": ".py",
   "mimetype": "text/x-python",
   "name": "python",
   "nbconvert_exporter": "python",
   "pygments_lexer": "ipython2",
   "version": "2.7.11"
  }
 },
 "nbformat": 4,
 "nbformat_minor": 0
}
